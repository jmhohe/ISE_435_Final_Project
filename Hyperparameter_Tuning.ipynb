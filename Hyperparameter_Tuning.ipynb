{
 "cells": [
  {
   "cell_type": "code",
   "execution_count": null,
   "metadata": {},
   "outputs": [],
   "source": [
    "#Import All Packages Required for Forecasting and Parameter Tuning\n",
    "import pandas as pd\n",
    "from fbprophet import Prophet\n",
    "from fbprophet.diagnostics import cross_validation\n",
    "from fbprophet.diagnostics import performance_metrics\n",
    "import itertools\n",
    "import numpy as np\n",
    "import json\n"
   ]
  },
  {
   "cell_type": "code",
   "execution_count": null,
   "metadata": {},
   "outputs": [],
   "source": [
    "#Reading in Product Data\n",
    "products = pd.read_csv('product_data.csv')\n",
    "products['Week'] = pd.to_datetime(products['Week']).dt.date"
   ]
  },
  {
   "cell_type": "code",
   "execution_count": null,
   "metadata": {},
   "outputs": [],
   "source": [
    "#Initializing Parameter Grid with most likely parameters (based on fbprophet documentation)\n",
    "#https://facebook.github.io/prophet/docs/diagnostics.html#hyperparameter-tuning\n",
    "parameters_grid = {  \n",
    "    'changepoint_prior_scale': [0.001, 0.01, 0.05, 0.1, 0.5],\n",
    "    'seasonality_prior_scale': [0.01, 0.1, 1.0, 10.0],\n",
    "    'seasonality_mode': ['additive','multiplicative']\n",
    "}\n",
    "\n",
    "all_params = [dict(zip(param_grid.keys(), v)) for v in itertools.product(*param_grid.values())]"
   ]
  },
  {
   "cell_type": "code",
   "execution_count": null,
   "metadata": {},
   "outputs": [],
   "source": [
    "#Function to find best parameters for each error measure\n",
    "#https://facebook.github.io/prophet/docs/diagnostics.html#hyperparameter-tuning\n",
    "def getParams(data, productID, all_params, parameters):\n",
    "    #Prepping Data for Time Series\n",
    "    productDF = data[['Week',productID]]\n",
    "    timeSeries = productDF.rename(columns={'Week':'ds',productID:'y'})\n",
    "    \n",
    "    #Cutoff dates\n",
    "    cutoffs = pd.to_datetime(['2020-06-15','2020-12-21','2021-06-14'])\n",
    "    #Initializing lists\n",
    "    mae = []\n",
    "    mse = []\n",
    "    mape = []\n",
    "    \n",
    "    #Looping through parameter grid, trying all combinations\n",
    "    for params in all_params:\n",
    "        m = Prophet(**params, weekly_seasonality=True).fit(timeSeries)  # Fit model with given params\n",
    "        cv = cross_validation(m, cutoffs=cutoffs, horizon='35 days', parallel=\"processes\")\n",
    "        pm = performance_metrics(cv, rolling_window=1)\n",
    "        #each loop appends error measure values to list\n",
    "        mae.append(pm['mae'].values[0])\n",
    "        mse.append(pm['mse'].values[0])\n",
    "        mape.append(pm['mape'].values[0])\n",
    "    \n",
    "    #getting best combination of parameters for each error measure\n",
    "    best_mae_params = all_params[np.argmin(mae)]\n",
    "    best_mse_params = all_params[np.argmin(mse)]\n",
    "    best_mape_params = all_params[np.argmin(mape)]\n",
    "    \n",
    "    #Adding best parameter for each error measure in productID dictionary\n",
    "    parameters[productID] = {}\n",
    "    parameters[productID]['mae'] = best_mae_params\n",
    "    parameters[productID]['mse'] = best_mse_params\n",
    "    parameters[productID]['mape'] = best_mape_params"
   ]
  },
  {
   "cell_type": "code",
   "execution_count": null,
   "metadata": {},
   "outputs": [],
   "source": [
    "#initializing parameter json structure\n",
    "parameters = { }\n",
    "#calls getParams product for each productID\n",
    "for i in range(1,16):\n",
    "    productID = 'Product' + str(i)\n",
    "    getParams(products,productID, all_params, parameters)\n",
    "#dumping all optimal parameters in json file, for use in gui\n",
    "with open('parameters_test.json', 'w', encoding = 'utf-8') as jfile:\n",
    "    json.dump(parameters, jfile,ensure_ascii=False, indent=4)"
   ]
  },
  {
   "cell_type": "code",
   "execution_count": null,
   "metadata": {},
   "outputs": [],
   "source": []
  }
 ],
 "metadata": {
  "kernelspec": {
   "display_name": "Python 3",
   "language": "python",
   "name": "python3"
  },
  "language_info": {
   "codemirror_mode": {
    "name": "ipython",
    "version": 3
   },
   "file_extension": ".py",
   "mimetype": "text/x-python",
   "name": "python",
   "nbconvert_exporter": "python",
   "pygments_lexer": "ipython3",
   "version": "3.8.5"
  }
 },
 "nbformat": 4,
 "nbformat_minor": 4
}
